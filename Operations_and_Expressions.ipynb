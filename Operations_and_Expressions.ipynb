{
  "nbformat": 4,
  "nbformat_minor": 0,
  "metadata": {
    "colab": {
      "provenance": [],
      "collapsed_sections": [],
      "authorship_tag": "ABX9TyPrGEIfREC7DetJX6/wNQsN",
      "include_colab_link": true
    },
    "kernelspec": {
      "name": "python3",
      "display_name": "Python 3"
    },
    "language_info": {
      "name": "python"
    }
  },
  "cells": [
    {
      "cell_type": "markdown",
      "metadata": {
        "id": "view-in-github",
        "colab_type": "text"
      },
      "source": [
        "<a href=\"https://colab.research.google.com/github/ZyrlMilesAguitong/PLNG211-QC/blob/main/Operations_and_Expressions.ipynb\" target=\"_parent\"><img src=\"https://colab.research.google.com/assets/colab-badge.svg\" alt=\"Open In Colab\"/></a>"
      ]
    },
    {
      "cell_type": "markdown",
      "source": [
        "Boolean Operators"
      ],
      "metadata": {
        "id": "SVZnxYFbj4Xl"
      }
    },
    {
      "cell_type": "code",
      "source": [
        "a=10\n",
        "b=9\n",
        "print(10>9)\n",
        "print(10<9)\n",
        "print(10==9)\n",
        "print(a!=b)"
      ],
      "metadata": {
        "colab": {
          "base_uri": "https://localhost:8080/"
        },
        "id": "8TwBhbewj6w3",
        "outputId": "6b21a723-922b-4045-98f8-978eab9d3b12"
      },
      "execution_count": 30,
      "outputs": [
        {
          "output_type": "stream",
          "name": "stdout",
          "text": [
            "True\n",
            "False\n",
            "False\n",
            "True\n"
          ]
        }
      ]
    },
    {
      "cell_type": "markdown",
      "source": [
        "Bool() Function"
      ],
      "metadata": {
        "id": "S_7twFtmkkIy"
      }
    },
    {
      "cell_type": "code",
      "source": [
        "print(bool(15))\n",
        "print(bool(\"Zyrl\"))\n",
        "\n",
        "print(bool(0))\n",
        "print(bool(None))\n",
        "print(bool(False))\n"
      ],
      "metadata": {
        "colab": {
          "base_uri": "https://localhost:8080/"
        },
        "id": "GfGLhTDRknYu",
        "outputId": "3aebaf6b-ea44-499d-85c5-c2444866dcd0"
      },
      "execution_count": 29,
      "outputs": [
        {
          "output_type": "stream",
          "name": "stdout",
          "text": [
            "True\n",
            "True\n",
            "False\n",
            "False\n",
            "False\n"
          ]
        }
      ]
    },
    {
      "cell_type": "markdown",
      "source": [
        "Function that returns a Boolean"
      ],
      "metadata": {
        "id": "UDPauedvlUZX"
      }
    },
    {
      "cell_type": "code",
      "source": [
        "def my_Function():\n",
        "\n",
        "  if(my_Function()):\n",
        "    print(\"Yes!\")\n",
        "  else:\n",
        "    print(\"No!\")"
      ],
      "metadata": {
        "id": "EZFV7uyNnUKP"
      },
      "execution_count": 28,
      "outputs": []
    },
    {
      "cell_type": "markdown",
      "source": [
        "Application 1"
      ],
      "metadata": {
        "id": "xSmQrOKen4P9"
      }
    },
    {
      "cell_type": "code",
      "source": [
        "c = 6         #110 in binary\n",
        "d = 7         #111 in binary\n",
        "print(c==d)\n",
        "print(c!=c)"
      ],
      "metadata": {
        "colab": {
          "base_uri": "https://localhost:8080/"
        },
        "id": "FxSoPL8nn6T6",
        "outputId": "e1d9bfcb-5b23-4919-b4a2-440dd2717112"
      },
      "execution_count": 26,
      "outputs": [
        {
          "output_type": "stream",
          "name": "stdout",
          "text": [
            "False\n",
            "False\n"
          ]
        }
      ]
    },
    {
      "cell_type": "markdown",
      "source": [
        "Python Operators"
      ],
      "metadata": {
        "id": "HRN09e91o9Ol"
      }
    },
    {
      "cell_type": "code",
      "source": [
        "print(10+9)\n",
        "print(10-9)\n",
        "print(10*9)\n",
        "print(10/5)           #Division\n",
        "10//3                 #Floor Division\n",
        "print(10%3)           #Remainder 10/3=3.33            Remainder 1\n",
        "print(10**2)"
      ],
      "metadata": {
        "colab": {
          "base_uri": "https://localhost:8080/"
        },
        "id": "gkP24-NPo-8O",
        "outputId": "64b7bb47-360a-4512-b844-536da48b44c8"
      },
      "execution_count": 27,
      "outputs": [
        {
          "output_type": "stream",
          "name": "stdout",
          "text": [
            "19\n",
            "1\n",
            "90\n",
            "2.0\n",
            "1\n",
            "100\n"
          ]
        }
      ]
    },
    {
      "cell_type": "markdown",
      "source": [
        "Bitwise Operators"
      ],
      "metadata": {
        "id": "wVQRGiqzsLaM"
      }
    },
    {
      "cell_type": "code",
      "source": [
        "e = 60\n",
        "f = 13\n",
        "\n",
        "e & f\n",
        "e ^ f"
      ],
      "metadata": {
        "colab": {
          "base_uri": "https://localhost:8080/"
        },
        "id": "vPY3twR_sMxq",
        "outputId": "a760c464-790d-4d41-9f7e-83a4711adfb8"
      },
      "execution_count": 24,
      "outputs": [
        {
          "output_type": "execute_result",
          "data": {
            "text/plain": [
              "49"
            ]
          },
          "metadata": {},
          "execution_count": 24
        }
      ]
    },
    {
      "cell_type": "markdown",
      "source": [
        "Python Assignment Operator"
      ],
      "metadata": {
        "id": "DSqOBzeC2h9g"
      }
    },
    {
      "cell_type": "code",
      "source": [
        "x = 4\n",
        "x+=3            #x= x=3, x 4+3 = 7\n",
        "\n",
        "print(\"x=\", x)\n"
      ],
      "metadata": {
        "colab": {
          "base_uri": "https://localhost:8080/"
        },
        "id": "Ii4E8N1n2jmD",
        "outputId": "cd273418-154b-4382-9d03-d399c6f4929f"
      },
      "execution_count": 22,
      "outputs": [
        {
          "output_type": "stream",
          "name": "stdout",
          "text": [
            "x= 7\n"
          ]
        }
      ]
    },
    {
      "cell_type": "markdown",
      "source": [
        "Logical Operator"
      ],
      "metadata": {
        "id": "8fEZxpVC3xle"
      }
    },
    {
      "cell_type": "code",
      "source": [
        "print((4>3) and (5!=5))         #and\n",
        "print((6==6) or (6!=6))         #or"
      ],
      "metadata": {
        "colab": {
          "base_uri": "https://localhost:8080/"
        },
        "id": "TupBKDlH371e",
        "outputId": "c399d470-5ca0-40e8-c5d0-109a83eb2be0"
      },
      "execution_count": 23,
      "outputs": [
        {
          "output_type": "stream",
          "name": "stdout",
          "text": [
            "False\n",
            "True\n"
          ]
        }
      ]
    },
    {
      "cell_type": "markdown",
      "source": [
        "Identity Operator"
      ],
      "metadata": {
        "id": "LvKmox-H2uoO"
      }
    },
    {
      "cell_type": "code",
      "source": [
        "print(4 is 4)\n",
        "print(7 is not 7)"
      ],
      "metadata": {
        "colab": {
          "base_uri": "https://localhost:8080/"
        },
        "id": "W7CG62av216d",
        "outputId": "3a3aecc0-3ac1-43e7-dd9b-0aba8173c8ee"
      },
      "execution_count": 19,
      "outputs": [
        {
          "output_type": "stream",
          "name": "stdout",
          "text": [
            "True\n",
            "False\n"
          ]
        }
      ]
    }
  ]
}