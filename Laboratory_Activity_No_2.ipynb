{
  "nbformat": 4,
  "nbformat_minor": 0,
  "metadata": {
    "colab": {
      "provenance": [],
      "include_colab_link": true
    },
    "kernelspec": {
      "name": "python3",
      "display_name": "Python 3"
    },
    "language_info": {
      "name": "python"
    }
  },
  "cells": [
    {
      "cell_type": "markdown",
      "metadata": {
        "id": "view-in-github",
        "colab_type": "text"
      },
      "source": [
        "<a href=\"https://colab.research.google.com/github/ZyrlMilesAguitong/PLNG211-QC/blob/main/Laboratory_Activity_No_2.ipynb\" target=\"_parent\"><img src=\"https://colab.research.google.com/assets/colab-badge.svg\" alt=\"Open In Colab\"/></a>"
      ]
    },
    {
      "cell_type": "code",
      "execution_count": null,
      "metadata": {
        "id": "sEE2fYDyBLGJ"
      },
      "outputs": [],
      "source": [
        "#PLNG211 = Laboratory Activity No.1\n",
        "#Zyrl Miles D. Aguitong\n",
        "#BSCS-2-YA-1\n",
        "\n",
        "# No.1 - Write a Python to display your full name, student number, age, and course\n",
        "\n",
        "Name = \"Zyrl Miles D. Aguitong\"\n",
        "Student_No = 2210002886\n",
        "Age = 20\n",
        "School = \"Our Lady Fatima University\"\n",
        "Course = \"Bachelor in Science Computer Science\""
      ]
    },
    {
      "cell_type": "code",
      "source": [
        "# No.2 - Create a class named Student with attributes: Name, Student_No, Age, School, and Course\n",
        "\n",
        "class Student:\n",
        "  def __init__(self, Name, Student_No, Age, School, Course):\n",
        "    self.Name = Name\n",
        "    self.Student_No = Student_No\n",
        "    self.Age = Age\n",
        "    self.School = School\n",
        "    self.Course = Course\n",
        "\n",
        "  "
      ],
      "metadata": {
        "id": "fvuLwXO6Wc6g"
      },
      "execution_count": null,
      "outputs": []
    },
    {
      "cell_type": "code",
      "source": [
        "def info(self):\n",
        "    print(\"\"+self.Name)\n",
        "    print(self.Student_No)\n",
        "    print(self.Age)\n",
        "    print(\"\"+self.School)\n",
        "    print(\"\"+self.Course)"
      ],
      "metadata": {
        "id": "xOysIPvpWdbi"
      },
      "execution_count": null,
      "outputs": []
    },
    {
      "cell_type": "code",
      "source": [
        "#Create an object name Myself and assign an instance for each attribute.\n",
        "\n",
        "Myself = Student(Name, Student_No, Age, School, Course)"
      ],
      "metadata": {
        "id": "n40kDLwyWduE"
      },
      "execution_count": null,
      "outputs": []
    },
    {
      "cell_type": "code",
      "source": [
        "#Create a method Info() using an instantiation of a class.\n",
        "Myself.info()"
      ],
      "metadata": {
        "colab": {
          "base_uri": "https://localhost:8080/"
        },
        "id": "FozM-P8_Wuv7",
        "outputId": "53e3a2b8-9818-435b-82a9-2e02df9b1007"
      },
      "execution_count": null,
      "outputs": [
        {
          "output_type": "stream",
          "name": "stdout",
          "text": [
            "Zyrl Miles D. Aguitong\n",
            "2210002886\n",
            "20\n",
            "Our Lady Fatima University\n",
            "Bachelor in Science Computer Science\n"
          ]
        }
      ]
    },
    {
      "cell_type": "code",
      "source": [],
      "metadata": {
        "id": "u0H1lFfQrfd7"
      },
      "execution_count": null,
      "outputs": []
    }
  ]
}