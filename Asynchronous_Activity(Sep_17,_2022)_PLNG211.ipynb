{
  "nbformat": 4,
  "nbformat_minor": 0,
  "metadata": {
    "colab": {
      "provenance": [],
      "authorship_tag": "ABX9TyNxe0iUjblpd1bdueV57IbU",
      "include_colab_link": true
    },
    "kernelspec": {
      "name": "python3",
      "display_name": "Python 3"
    },
    "language_info": {
      "name": "python"
    }
  },
  "cells": [
    {
      "cell_type": "markdown",
      "metadata": {
        "id": "view-in-github",
        "colab_type": "text"
      },
      "source": [
        "<a href=\"https://colab.research.google.com/github/ZyrlMilesAguitong/PLNG211-QC/blob/main/Asynchronous_Activity(Sep_17%2C_2022)_PLNG211.ipynb\" target=\"_parent\"><img src=\"https://colab.research.google.com/assets/colab-badge.svg\" alt=\"Open In Colab\"/></a>"
      ]
    },
    {
      "cell_type": "code",
      "execution_count": 3,
      "metadata": {
        "colab": {
          "base_uri": "https://localhost:8080/"
        },
        "id": "CJJYVlSw906-",
        "outputId": "a099d387-a3d0-4a65-d667-9c79c752572e"
      },
      "outputs": [
        {
          "output_type": "stream",
          "name": "stdout",
          "text": [
            "0\n",
            "2\n",
            "4\n"
          ]
        }
      ],
      "source": [
        "for var in range(0, 5, 2):\n",
        "  print (var)"
      ]
    },
    {
      "cell_type": "code",
      "source": [
        "for var in range(0, 5+1):\n",
        "  print (var)"
      ],
      "metadata": {
        "colab": {
          "base_uri": "https://localhost:8080/"
        },
        "id": "5S7uRDbQJPIv",
        "outputId": "6bd4d47e-d06b-48a4-a85f-0fa4112cf36b"
      },
      "execution_count": 5,
      "outputs": [
        {
          "output_type": "stream",
          "name": "stdout",
          "text": [
            "0\n",
            "1\n",
            "2\n",
            "3\n",
            "4\n",
            "5\n"
          ]
        }
      ]
    },
    {
      "cell_type": "code",
      "source": [
        "for var in range(5):\n",
        "  print (var)"
      ],
      "metadata": {
        "colab": {
          "base_uri": "https://localhost:8080/"
        },
        "id": "qROl8p4tJcbj",
        "outputId": "a9f31e1f-dcfb-4ee8-927b-952a0f06c057"
      },
      "execution_count": 6,
      "outputs": [
        {
          "output_type": "stream",
          "name": "stdout",
          "text": [
            "0\n",
            "1\n",
            "2\n",
            "3\n",
            "4\n"
          ]
        }
      ]
    },
    {
      "cell_type": "code",
      "source": [
        "#Asychronous Activity\n",
        "#Aguitong, Zyrl Miles D.\n",
        "#BSCS-2-YA-1\n",
        "\n",
        "Salary_rate = 600\n",
        "Salary = Salary_rate * 15\n",
        "Taxable_amount = Salary * 0.30\n",
        "Net_pay = Salary - Taxable_amount\n",
        "\n",
        "Net = \"Net Pay is\"\n",
        "\n",
        "print(Net,Net_pay)\n"
      ],
      "metadata": {
        "colab": {
          "base_uri": "https://localhost:8080/"
        },
        "id": "pl4-bFyuJkNi",
        "outputId": "33be749a-62d7-454a-eae8-d61dc5064d14"
      },
      "execution_count": 18,
      "outputs": [
        {
          "output_type": "stream",
          "name": "stdout",
          "text": [
            "Net Pay is 6300.0\n"
          ]
        }
      ]
    }
  ]
}