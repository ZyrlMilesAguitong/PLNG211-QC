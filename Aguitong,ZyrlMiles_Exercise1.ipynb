{
  "nbformat": 4,
  "nbformat_minor": 0,
  "metadata": {
    "colab": {
      "provenance": [],
      "collapsed_sections": [],
      "authorship_tag": "ABX9TyNMeL8taXwC5LIvbTKrOpQP",
      "include_colab_link": true
    },
    "kernelspec": {
      "name": "python3",
      "display_name": "Python 3"
    },
    "language_info": {
      "name": "python"
    }
  },
  "cells": [
    {
      "cell_type": "markdown",
      "metadata": {
        "id": "view-in-github",
        "colab_type": "text"
      },
      "source": [
        "<a href=\"https://colab.research.google.com/github/ZyrlMilesAguitong/PLNG211-QC/blob/main/Aguitong%2CZyrlMiles_Exercise1.ipynb\" target=\"_parent\"><img src=\"https://colab.research.google.com/assets/colab-badge.svg\" alt=\"Open In Colab\"/></a>"
      ]
    },
    {
      "cell_type": "code",
      "execution_count": 21,
      "metadata": {
        "colab": {
          "base_uri": "https://localhost:8080/"
        },
        "id": "HEpeSr7YOcpe",
        "outputId": "a7df4f10-1bd7-4ff1-b813-81e730049e5c"
      },
      "outputs": [
        {
          "output_type": "stream",
          "name": "stdout",
          "text": [
            "The Even Numbers in an Array are:\n",
            "26 98 62 \n",
            "\n",
            "The Sum of all Even Numbers in an Array is : 186\n"
          ]
        }
      ],
      "source": [
        "#Python Program Adding Even Numbers in an Array\n",
        "\n",
        "arr = [26,49,98,87,62,75]\n",
        "sum = 0\n",
        "num = 0\n",
        "i = 0\n",
        "\n",
        "print(\"The Even Numbers in an Array are:\")\n",
        "while(num < len(arr)):\n",
        " \n",
        "\n",
        "    if arr[num] % 2 == 0:\n",
        "        print(arr[num], end=\" \")\n",
        "    num += 1\n",
        "\n",
        "while i < len(arr):\n",
        "  if(arr[i] % 2 == 0):\n",
        "    sum = arr[i] + sum\n",
        "  i += 1\n",
        "print(\"\\n\\nThe Sum of all Even Numbers in an Array is :\", sum)\n",
        "\n",
        "    "
      ]
    }
  ]
}