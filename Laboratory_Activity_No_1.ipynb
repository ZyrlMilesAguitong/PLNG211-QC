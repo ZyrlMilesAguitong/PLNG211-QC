{
  "nbformat": 4,
  "nbformat_minor": 0,
  "metadata": {
    "colab": {
      "provenance": [],
      "authorship_tag": "ABX9TyOAdFi4guulxtue9rHKVw/T",
      "include_colab_link": true
    },
    "kernelspec": {
      "name": "python3",
      "display_name": "Python 3"
    },
    "language_info": {
      "name": "python"
    }
  },
  "cells": [
    {
      "cell_type": "markdown",
      "metadata": {
        "id": "view-in-github",
        "colab_type": "text"
      },
      "source": [
        "<a href=\"https://colab.research.google.com/github/ZyrlMilesAguitong/PLNG211-QC/blob/main/Laboratory_Activity_No_1.ipynb\" target=\"_parent\"><img src=\"https://colab.research.google.com/assets/colab-badge.svg\" alt=\"Open In Colab\"/></a>"
      ]
    },
    {
      "cell_type": "code",
      "execution_count": 7,
      "metadata": {
        "colab": {
          "base_uri": "https://localhost:8080/"
        },
        "id": "1PsJlKUJBJH-",
        "outputId": "82214d76-10a3-4fec-8444-f72c7d269ef4"
      },
      "outputs": [
        {
          "output_type": "stream",
          "name": "stdout",
          "text": [
            "45\n"
          ]
        }
      ],
      "source": [
        "#PLNG211 = Laboratory Activity No.1\n",
        "#Zyrl Miles D. Aguitong\n",
        "#BSCS-2-YA-1\n",
        "\n",
        "#A. Methodology\n",
        "# No.1 - Write a Python program to create an array of 10 integers and display the array items. Access individual elements through indexes and compute for the sum.\n",
        "\n",
        "arr1 = [0,1,2,3,4,5,6,7,8,9]\n",
        "arraySum = 0\n",
        "for x in arr1:\n",
        "    arraySum+=arr1[x]\n",
        "print(arraySum)\n",
        "\n",
        "\n"
      ]
    },
    {
      "cell_type": "code",
      "source": [
        "# No.2 - Write a Python program to append a new item to the end of the array. Original array: numbers = [1, 2, 3, 4, 5, 6, 7, 8, 9, 10]\n",
        "arr1.append(10)\n",
        "print(arr1)\n"
      ],
      "metadata": {
        "colab": {
          "base_uri": "https://localhost:8080/"
        },
        "id": "Flh9FeXGC8BT",
        "outputId": "16302930-8626-488c-c16e-343224c12bad"
      },
      "execution_count": 8,
      "outputs": [
        {
          "output_type": "stream",
          "name": "stdout",
          "text": [
            "[0, 1, 2, 3, 4, 5, 6, 7, 8, 9, 10]\n"
          ]
        }
      ]
    },
    {
      "cell_type": "code",
      "source": [
        "# No.3 - Write a Python program to insert a new item before the second element in an existing array. Original array: numbers = [1, 2, 3, 4, 5, 6, 7, 8, 9, 10]\n",
        "arr1.insert(0,69)\n",
        "print(arr1)\n"
      ],
      "metadata": {
        "colab": {
          "base_uri": "https://localhost:8080/"
        },
        "id": "_c3oP8sbC8PJ",
        "outputId": "1aba32ac-89bd-4560-b701-49674e971f97"
      },
      "execution_count": 9,
      "outputs": [
        {
          "output_type": "stream",
          "name": "stdout",
          "text": [
            "[69, 0, 1, 2, 3, 4, 5, 6, 7, 8, 9, 10]\n"
          ]
        }
      ]
    },
    {
      "cell_type": "code",
      "source": [
        "# No.4 - Write a Python program to reverse the order of the items in the array. Original array: numbers = [5, 4, 3, 2, 1\n",
        "arr1.reverse()\n",
        "print(arr1)"
      ],
      "metadata": {
        "colab": {
          "base_uri": "https://localhost:8080/"
        },
        "id": "TCWEG5HIC8dJ",
        "outputId": "57f8dcd7-bc64-4772-ed2d-0aafd2f12d3a"
      },
      "execution_count": 10,
      "outputs": [
        {
          "output_type": "stream",
          "name": "stdout",
          "text": [
            "[10, 9, 8, 7, 6, 5, 4, 3, 2, 1, 0, 69]\n"
          ]
        }
      ]
    },
    {
      "cell_type": "code",
      "source": [
        "# No.5 - Write a Python program to get the length of the array. Original array: numbers = [5, 4, 3, 2, 1]\n",
        "length = 0\n",
        "for x in arr1:\n",
        "    length+=1\n",
        "print(length)"
      ],
      "metadata": {
        "colab": {
          "base_uri": "https://localhost:8080/"
        },
        "id": "CzyWaLd9C8vR",
        "outputId": "c664ff0c-2015-4d1a-c331-2f79169f8ac1"
      },
      "execution_count": 12,
      "outputs": [
        {
          "output_type": "stream",
          "name": "stdout",
          "text": [
            "12\n"
          ]
        }
      ]
    },
    {
      "cell_type": "markdown",
      "source": [],
      "metadata": {
        "id": "Q4vTWvAQEw0C"
      }
    }
  ]
}