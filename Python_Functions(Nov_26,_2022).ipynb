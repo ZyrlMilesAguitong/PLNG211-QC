{
  "nbformat": 4,
  "nbformat_minor": 0,
  "metadata": {
    "colab": {
      "provenance": [],
      "authorship_tag": "ABX9TyMoCjvSFujqvuYWA2AfZrG+",
      "include_colab_link": true
    },
    "kernelspec": {
      "name": "python3",
      "display_name": "Python 3"
    },
    "language_info": {
      "name": "python"
    }
  },
  "cells": [
    {
      "cell_type": "markdown",
      "metadata": {
        "id": "view-in-github",
        "colab_type": "text"
      },
      "source": [
        "<a href=\"https://colab.research.google.com/github/ZyrlMilesAguitong/PLNG211-QC/blob/main/Python_Functions(Nov_26%2C_2022).ipynb\" target=\"_parent\"><img src=\"https://colab.research.google.com/assets/colab-badge.svg\" alt=\"Open In Colab\"/></a>"
      ]
    },
    {
      "cell_type": "code",
      "execution_count": 1,
      "metadata": {
        "colab": {
          "base_uri": "https://localhost:8080/"
        },
        "id": "c0c9-e4ETfMp",
        "outputId": "032cf7f3-3a64-4019-9041-5f4975f59150"
      },
      "outputs": [
        {
          "output_type": "stream",
          "name": "stdout",
          "text": [
            "100\n",
            "Celsius 37.78\n",
            "Kelvin 310.93\n"
          ]
        }
      ],
      "source": [
        "def convert_to_celsius(fahrenheit):\n",
        "  return (fahrenheit - 32) * 5/9\n",
        "\n",
        "def convert_to_kelvin(fahrenheit):\n",
        "  return ((fahrenheit - 32) * 5/9) + 273.15\n",
        "fahrenheit = int(input())\n",
        "\n",
        "print(\"Celsius\", round(convert_to_celsius(fahrenheit), 2))\n",
        "print(\"Kelvin\", round(convert_to_kelvin(fahrenheit), 2))"
      ]
    },
    {
      "cell_type": "code",
      "source": [
        "def Name():\n",
        "  pass"
      ],
      "metadata": {
        "id": "Jjdou_qwVsff"
      },
      "execution_count": 3,
      "outputs": []
    },
    {
      "cell_type": "code",
      "source": [
        "def my_function(fname):\n",
        "  return(fname + \"Sayo\")\n",
        "\n",
        "print(my_function(\"Mam \"))\n",
        "print(my_function(\"Maria \"))\n",
        "print(my_function(\"Rizette \"))\n"
      ],
      "metadata": {
        "colab": {
          "base_uri": "https://localhost:8080/"
        },
        "id": "plIS1J9-VsvQ",
        "outputId": "0ea8b05e-5c58-46e4-f3f4-f593f6d909b5"
      },
      "execution_count": 4,
      "outputs": [
        {
          "output_type": "stream",
          "name": "stdout",
          "text": [
            "Mam Sayo\n",
            "Maria Sayo\n",
            "Rizette Sayo\n"
          ]
        }
      ]
    },
    {
      "cell_type": "code",
      "source": [
        "#Exercise 1\n",
        "\n",
        "print(min(2, 3, 4))\n",
        "print(max(2, -3, 4, 7, -5))\n",
        "print(max(2, -3, min(2,4), -5))\n"
      ],
      "metadata": {
        "colab": {
          "base_uri": "https://localhost:8080/"
        },
        "id": "8YKxaBJBata3",
        "outputId": "879d84cc-4e9a-4ac0-b493-c4b556d5844e"
      },
      "execution_count": 9,
      "outputs": [
        {
          "output_type": "stream",
          "name": "stdout",
          "text": [
            "2\n",
            "7\n",
            "2\n"
          ]
        }
      ]
    },
    {
      "cell_type": "code",
      "source": [
        "#Exercise 2\n",
        "import math\n",
        "\n",
        "def sum(num1, num2, num3):\n",
        "  return num1 + num2 + num3\n",
        "def average(num1, num2, num3):\n",
        "  return (num1 + num2 + num3) / 3\n",
        "def square(num1, num2, num3):\n",
        "  return math.pow(num1,2) + math.pow(num2,2) + math.pow(num3,2)\n",
        "\n",
        "num1 = int(input())\n",
        "num2 = int(input())\n",
        "num3 = int(input())\n",
        "\n",
        "print(\"Sum =\", sum(num1, num2, num3))\n",
        "print(\"Average =\", average(num1, num2, num3))\n",
        "print(\"Sum of Squares =\", square(num1, num2, num3))"
      ],
      "metadata": {
        "colab": {
          "base_uri": "https://localhost:8080/"
        },
        "id": "AwtU2CJfatqg",
        "outputId": "f4577b41-fac5-41e9-ccb5-300c868c0866"
      },
      "execution_count": 11,
      "outputs": [
        {
          "output_type": "stream",
          "name": "stdout",
          "text": [
            "5\n",
            "15\n",
            "10\n",
            "Sum = 30\n",
            "Average = 10.0\n",
            "Sum of Squares = 350.0\n"
          ]
        }
      ]
    }
  ]
}